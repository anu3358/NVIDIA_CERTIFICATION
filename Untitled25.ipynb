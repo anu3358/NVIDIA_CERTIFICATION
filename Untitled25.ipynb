{
  "nbformat": 4,
  "nbformat_minor": 0,
  "metadata": {
    "colab": {
      "provenance": [],
      "authorship_tag": "ABX9TyP+exYTJMuth2jyAySFhrzL",
      "include_colab_link": true
    },
    "kernelspec": {
      "name": "python3",
      "display_name": "Python 3"
    },
    "language_info": {
      "name": "python"
    }
  },
  "cells": [
    {
      "cell_type": "markdown",
      "metadata": {
        "id": "view-in-github",
        "colab_type": "text"
      },
      "source": [
        "<a href=\"https://colab.research.google.com/github/anu3358/NVIDIA_CERTIFICATION/blob/main/Untitled25.ipynb\" target=\"_parent\"><img src=\"https://colab.research.google.com/assets/colab-badge.svg\" alt=\"Open In Colab\"/></a>"
      ]
    },
    {
      "cell_type": "code",
      "source": [
        "import torch\n",
        "import torch.nn as nn\n",
        "from torch.optim import Adam\n",
        "from torch.utils.data import Dataset, DataLoader\n",
        "import torchvision.transforms.v2 as transforms\n",
        "import torchvision.io as tv_io\n",
        "\n",
        "import glob\n",
        "from PIL import Image\n",
        "\n",
        "import utils\n",
        "\n",
        "device = torch.device(\"cuda\" if torch.cuda.is_available() else \"cpu\")\n",
        "torch.cuda.is_available()"
      ],
      "metadata": {
        "colab": {
          "base_uri": "https://localhost:8080/"
        },
        "id": "Rt1Ww9s7Fpla",
        "outputId": "b9909ade-45fa-4700-a953-b61a38f449ce"
      },
      "execution_count": 2,
      "outputs": [
        {
          "output_type": "execute_result",
          "data": {
            "text/plain": [
              "False"
            ]
          },
          "metadata": {},
          "execution_count": 2
        }
      ]
    },
    {
      "cell_type": "code",
      "source": [
        "from torchvision.models import vgg16\n",
        "from torchvision.models import VGG16_Weights\n",
        "\n",
        "weights = VGG16_Weights.DEFAULT\n",
        "vgg_model = vgg16(weights=weights)"
      ],
      "metadata": {
        "colab": {
          "base_uri": "https://localhost:8080/"
        },
        "id": "42Uk65GZGB2Y",
        "outputId": "68d5ec7d-932b-4ec6-bd6f-d4bbf3c880ee"
      },
      "execution_count": 3,
      "outputs": [
        {
          "output_type": "stream",
          "name": "stderr",
          "text": [
            "Downloading: \"https://download.pytorch.org/models/vgg16-397923af.pth\" to /root/.cache/torch/hub/checkpoints/vgg16-397923af.pth\n",
            "100%|██████████| 528M/528M [00:07<00:00, 75.5MB/s]\n"
          ]
        }
      ]
    },
    {
      "cell_type": "code",
      "source": [
        "# Freeze base model\n",
        "vgg_model.requires_grad_(False)\n",
        "next(iter(vgg_model.parameters())).requires_grad"
      ],
      "metadata": {
        "colab": {
          "base_uri": "https://localhost:8080/"
        },
        "id": "AyvzRkfmGH6V",
        "outputId": "1ba6984f-6ca1-4bd5-ab27-c7d0ab94accf"
      },
      "execution_count": 4,
      "outputs": [
        {
          "output_type": "execute_result",
          "data": {
            "text/plain": [
              "False"
            ]
          },
          "metadata": {},
          "execution_count": 4
        }
      ]
    },
    {
      "cell_type": "code",
      "source": [
        "vgg_model.classifier[0:3]"
      ],
      "metadata": {
        "colab": {
          "base_uri": "https://localhost:8080/"
        },
        "id": "RLMojBUFGLxZ",
        "outputId": "8fa60f7f-7bb6-48cc-a5d8-bda8577f374a"
      },
      "execution_count": 5,
      "outputs": [
        {
          "output_type": "execute_result",
          "data": {
            "text/plain": [
              "Sequential(\n",
              "  (0): Linear(in_features=25088, out_features=4096, bias=True)\n",
              "  (1): ReLU(inplace=True)\n",
              "  (2): Dropout(p=0.5, inplace=False)\n",
              ")"
            ]
          },
          "metadata": {},
          "execution_count": 5
        }
      ]
    },
    {
      "cell_type": "code",
      "source": [
        "N_CLASSES = 6\n",
        "\n",
        "my_model = nn.Sequential(\n",
        "    vgg_model.features,\n",
        "    vgg_model.avgpool,\n",
        "    nn.Flatten(),\n",
        "    vgg_model.classifier[0:3],\n",
        "    nn.Linear(4096, 500),\n",
        "    nn.ReLU(),\n",
        "    nn.Linear(500, N_CLASSES)\n",
        ")\n",
        "my_model"
      ],
      "metadata": {
        "colab": {
          "base_uri": "https://localhost:8080/"
        },
        "id": "5hQNjYNfGNYx",
        "outputId": "24a85af8-f26b-4089-b648-069291c219bc"
      },
      "execution_count": 6,
      "outputs": [
        {
          "output_type": "execute_result",
          "data": {
            "text/plain": [
              "Sequential(\n",
              "  (0): Sequential(\n",
              "    (0): Conv2d(3, 64, kernel_size=(3, 3), stride=(1, 1), padding=(1, 1))\n",
              "    (1): ReLU(inplace=True)\n",
              "    (2): Conv2d(64, 64, kernel_size=(3, 3), stride=(1, 1), padding=(1, 1))\n",
              "    (3): ReLU(inplace=True)\n",
              "    (4): MaxPool2d(kernel_size=2, stride=2, padding=0, dilation=1, ceil_mode=False)\n",
              "    (5): Conv2d(64, 128, kernel_size=(3, 3), stride=(1, 1), padding=(1, 1))\n",
              "    (6): ReLU(inplace=True)\n",
              "    (7): Conv2d(128, 128, kernel_size=(3, 3), stride=(1, 1), padding=(1, 1))\n",
              "    (8): ReLU(inplace=True)\n",
              "    (9): MaxPool2d(kernel_size=2, stride=2, padding=0, dilation=1, ceil_mode=False)\n",
              "    (10): Conv2d(128, 256, kernel_size=(3, 3), stride=(1, 1), padding=(1, 1))\n",
              "    (11): ReLU(inplace=True)\n",
              "    (12): Conv2d(256, 256, kernel_size=(3, 3), stride=(1, 1), padding=(1, 1))\n",
              "    (13): ReLU(inplace=True)\n",
              "    (14): Conv2d(256, 256, kernel_size=(3, 3), stride=(1, 1), padding=(1, 1))\n",
              "    (15): ReLU(inplace=True)\n",
              "    (16): MaxPool2d(kernel_size=2, stride=2, padding=0, dilation=1, ceil_mode=False)\n",
              "    (17): Conv2d(256, 512, kernel_size=(3, 3), stride=(1, 1), padding=(1, 1))\n",
              "    (18): ReLU(inplace=True)\n",
              "    (19): Conv2d(512, 512, kernel_size=(3, 3), stride=(1, 1), padding=(1, 1))\n",
              "    (20): ReLU(inplace=True)\n",
              "    (21): Conv2d(512, 512, kernel_size=(3, 3), stride=(1, 1), padding=(1, 1))\n",
              "    (22): ReLU(inplace=True)\n",
              "    (23): MaxPool2d(kernel_size=2, stride=2, padding=0, dilation=1, ceil_mode=False)\n",
              "    (24): Conv2d(512, 512, kernel_size=(3, 3), stride=(1, 1), padding=(1, 1))\n",
              "    (25): ReLU(inplace=True)\n",
              "    (26): Conv2d(512, 512, kernel_size=(3, 3), stride=(1, 1), padding=(1, 1))\n",
              "    (27): ReLU(inplace=True)\n",
              "    (28): Conv2d(512, 512, kernel_size=(3, 3), stride=(1, 1), padding=(1, 1))\n",
              "    (29): ReLU(inplace=True)\n",
              "    (30): MaxPool2d(kernel_size=2, stride=2, padding=0, dilation=1, ceil_mode=False)\n",
              "  )\n",
              "  (1): AdaptiveAvgPool2d(output_size=(7, 7))\n",
              "  (2): Flatten(start_dim=1, end_dim=-1)\n",
              "  (3): Sequential(\n",
              "    (0): Linear(in_features=25088, out_features=4096, bias=True)\n",
              "    (1): ReLU(inplace=True)\n",
              "    (2): Dropout(p=0.5, inplace=False)\n",
              "  )\n",
              "  (4): Linear(in_features=4096, out_features=500, bias=True)\n",
              "  (5): ReLU()\n",
              "  (6): Linear(in_features=500, out_features=6, bias=True)\n",
              ")"
            ]
          },
          "metadata": {},
          "execution_count": 6
        }
      ]
    },
    {
      "cell_type": "code",
      "source": [
        "loss_function = nn.CrossEntropyLoss()\n",
        "optimizer = Adam(my_model.parameters())\n",
        "my_model = torch.compile(my_model.to(device))"
      ],
      "metadata": {
        "id": "prA-6UmbGTJb"
      },
      "execution_count": 7,
      "outputs": []
    },
    {
      "cell_type": "code",
      "source": [
        "pre_trans = weights.transforms()"
      ],
      "metadata": {
        "id": "3RfKjV4mGXgz"
      },
      "execution_count": 8,
      "outputs": []
    },
    {
      "cell_type": "code",
      "source": [
        "IMG_WIDTH, IMG_HEIGHT = (224, 224)\n",
        "\n",
        "random_trans = transforms.Compose([\n",
        "    transforms.RandomHorizontalFlip(p=0.5),  # FIXME: Add data augmentation\n",
        "    transforms.RandomRotation(degrees=10),\n",
        "    transforms.ColorJitter(brightness=0.2, contrast=0.2, saturation=0.2, hue=0.1),\n",
        "    transforms.RandomResizedCrop((IMG_HEIGHT, IMG_WIDTH), scale=(0.8, 1.0))\n",
        "])"
      ],
      "metadata": {
        "id": "cEztqY2oGayG"
      },
      "execution_count": 9,
      "outputs": []
    },
    {
      "cell_type": "code",
      "source": [
        "DATA_LABELS = [\"freshapples\", \"freshbanana\", \"freshoranges\", \"rottenapples\", \"rottenbanana\", \"rottenoranges\"]\n",
        "\n",
        "class MyDataset(Dataset):\n",
        "    def __init__(self, data_dir):\n",
        "        self.imgs = []\n",
        "        self.labels = []\n",
        "\n",
        "        for l_idx, label in enumerate(DATA_LABELS):\n",
        "            data_paths = glob.glob(data_dir + label + '/*.png', recursive=True)\n",
        "            if not data_paths:\n",
        "                print(f\"Warning: No .png files found for label '{label}' in directory '{data_dir + label}/'\")\n",
        "            for path in data_paths:\n",
        "                img = tv_io.read_image(path, tv_io.ImageReadMode.RGB)\n",
        "                self.imgs.append(pre_trans(img).to(device))\n",
        "                self.labels.append(torch.tensor(l_idx).to(device))\n",
        "\n",
        "\n",
        "    def __getitem__(self, idx):\n",
        "        img = self.imgs[idx]\n",
        "        label = self.labels[idx]\n",
        "        return img, label\n",
        "\n",
        "    def __len__(self):\n",
        "        return len(self.imgs)"
      ],
      "metadata": {
        "id": "bv2mTAYlGp4C"
      },
      "execution_count": 12,
      "outputs": []
    },
    {
      "cell_type": "code",
      "source": [
        "import os\n",
        "from PIL import Image, ImageDraw\n",
        "\n",
        "# Ensure the directory exists\n",
        "os.makedirs('data/fruits/train/', exist_ok=True)\n",
        "\n",
        "# Create a blank image\n",
        "img = Image.new('RGB', (300, 200), color='white')\n",
        "draw = ImageDraw.Draw(img)\n",
        "draw.text((100, 90), \"Apple\", fill='black')\n",
        "\n",
        "# Save it\n",
        "img.save('data/fruits/train/apple.png')\n"
      ],
      "metadata": {
        "id": "bU8AJQOxH_CW"
      },
      "execution_count": 15,
      "outputs": []
    },
    {
      "cell_type": "code",
      "source": [
        "n = 32\n",
        "\n",
        "train_path = \"data/fruits/train/\"\n",
        "train_data = MyDataset(train_path)\n",
        "train_loader = DataLoader(train_data, batch_size=n, shuffle=True)\n",
        "train_N = len(train_loader.dataset)\n",
        "\n",
        "valid_path = \"data/fruits/valid/\"\n",
        "valid_data = MyDataset(valid_path)\n",
        "valid_loader = DataLoader(valid_data, batch_size=n, shuffle=False)\n",
        "valid_N = len(valid_loader.dataset)"
      ],
      "metadata": {
        "id": "IjdNeGnhKLXN"
      },
      "execution_count": null,
      "outputs": []
    },
    {
      "cell_type": "code",
      "source": [
        "epochs = 10\n",
        "for epoch in range(epochs):\n",
        "    print('Epoch: {}'.format(epoch))\n",
        "    utils.train(my_model, train_loader, train_N, random_trans, optimizer, loss_function)\n",
        "    utils.validate(my_model, valid_loader, valid_N, loss_function)"
      ],
      "metadata": {
        "id": "SmUX21j9KMV8"
      },
      "execution_count": null,
      "outputs": []
    },
    {
      "cell_type": "code",
      "source": [
        "# Unfreeze the base model\n",
        "vgg_model.requires_grad_(True)\n",
        "optimizer = Adam(my_model.parameters(), lr=.0001)"
      ],
      "metadata": {
        "id": "W52NbAeHKO1z"
      },
      "execution_count": null,
      "outputs": []
    },
    {
      "cell_type": "code",
      "source": [
        "epochs = 1\n",
        "\n",
        "for epoch in range(epochs):\n",
        "    print('Epoch: {}'.format(epoch))\n",
        "    utils.train(my_model, train_loader, train_N, random_trans, optimizer, loss_function)\n",
        "    utils.validate(my_model, valid_loader, valid_N, loss_function)"
      ],
      "metadata": {
        "id": "zkH5k96mKRvL"
      },
      "execution_count": null,
      "outputs": []
    },
    {
      "cell_type": "code",
      "source": [
        "utils.validate(my_model, valid_loader, valid_N, loss_function)"
      ],
      "metadata": {
        "id": "noU2Vt4HKXP9"
      },
      "execution_count": null,
      "outputs": []
    },
    {
      "cell_type": "code",
      "source": [
        "from run_assessment import run_assessment"
      ],
      "metadata": {
        "id": "h7mtqAkMKYM4"
      },
      "execution_count": null,
      "outputs": []
    },
    {
      "cell_type": "code",
      "source": [
        "run_assessment(my_model)"
      ],
      "metadata": {
        "id": "A3KGT83BKbWp"
      },
      "execution_count": null,
      "outputs": []
    }
  ]
}